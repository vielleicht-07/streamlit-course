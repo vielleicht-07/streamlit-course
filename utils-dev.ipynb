{
 "cells": [
  {
   "cell_type": "code",
   "execution_count": 3,
   "metadata": {},
   "outputs": [],
   "source": [
    "def load_data():\n",
    "    ev_sales_df = \"https://api.iea.org/evs?parameters=EVsales&category=Historical&mode=Cars&csv=true\"\n",
    "    ev_sales_df = pd.read_csv(ev_sales_df)\n",
    "    ev_sales_df = ev_sales_df[ev_sales_df[\"parameter\"] == \"EV sales\"]\n",
    "    cols_to_drop = [\"mode\", \"category\", \"parameter\"]\n",
    "    ev_sales_df = ev_sales_df.drop(columns=cols_to_drop)\n",
    "\n",
    "    return ev_sales_df\n",
    "    "
   ]
  }
 ],
 "metadata": {
  "kernelspec": {
   "display_name": "Python 3",
   "language": "python",
   "name": "python3"
  },
  "language_info": {
   "codemirror_mode": {
    "name": "ipython",
    "version": 3
   },
   "file_extension": ".py",
   "mimetype": "text/x-python",
   "name": "python",
   "nbconvert_exporter": "python",
   "pygments_lexer": "ipython3",
   "version": "3.12.2"
  }
 },
 "nbformat": 4,
 "nbformat_minor": 2
}
